{
 "cells": [
  {
   "cell_type": "markdown",
   "metadata": {},
   "source": [
    "# Coursera Capstone Project \n",
    "# The Battle of Neighborhoods (Part 1)\n"
   ]
  },
  {
   "cell_type": "markdown",
   "metadata": {},
   "source": [
    "## Content\n",
    "1. [Introduction Section](#introduction) <br>\n",
    "    1.1 [Problem Description and Background](#intro-1)<br>\n",
    "    1.2 [Target Audience](#intro-2)\n",
    "2. [Data Section](#data) <br>\n",
    "    2.1 [New York City Dataset](#data-1) <br>\n",
    "    2.2 [Foursquare](#data-2)"
   ]
  },
  {
   "attachments": {},
   "cell_type": "markdown",
   "metadata": {},
   "source": [
    "### 1. Introduction <a id='introduction'></a>\n",
    "### 1.1 Problem Description and Background <a id='intro-1'></a>\n",
    "<font size=3> New York City is one of the World's 20 largest metropolitan areas and the financial capital of USA. It is a global hub of all kinds of businesses such as banking, retailing, world trade, transportation, tourism, real estate, legal services, accountancy, insurance, theater, fashion, and arts. It is definitely one of the best places to start a new business. \n",
    "\n",
    "Office areas provide great opportunities for restaurants during daytime. Shops are usually full especially at lunch time (11am - 2pm). Given this scenario I will analyze the prospect of opening a lunch restaurant, close to office areas in the city of New York. The analysis will provide insights about which neighborhoods are suitable to open a lunch restaurant. </font>\n",
    "\n",
    "### 1.2 Target Audience <a id='intro-2'></a>\n",
    "<font size=3> \n",
    "- Anyone who is interested in starting a restaurant business in New York City. This analysis can be used as a guide to start or expand restaurants targeting larger pool of office workers during lunch hours.\n",
    "- Office workers, to find potential lunch places close to office.\n",
    "- Students who wants to develop their data science skills. This project is a good practical case to implement some of the most used Exploratory Data Analysis techniques to obtain necessary data, analyze it, and, finally to tell a story out of it.\n",
    "</font>"
   ]
  },
  {
   "cell_type": "markdown",
   "metadata": {},
   "source": [
    "### 2. Data Section <a id='data'></a>\n",
    "### 2.1 New York City Dataset <a id='data-1'></a>\n",
    "<font size=3>According to the business problem described in the previous section, the data required for analysis is a dataset of New York City neighborhoods and boroughs. New York City has a total of 5 boroughs and 306 neighborhoods. In order to segment the neighborhoods and explore them, we will essentially need a dataset that contains the 5 boroughs and the neighborhoods that exist in each borough as well as the latitude and longitude coordinates of each neighborhood. Luckily, this dataset is available on the web, here is the link to the dataset https://geo.nyu.edu/catalog/nyu_2451_34572. This dataset will be used to compare different neighborhoods within each borough in order to figure out the most suitable neighborhoods to open a lunch restaurant.</font>\n",
    "\n",
    "### 2.2 Foursquare <a id='data-2'></a>\n",
    "<font size=3>It is a local search-and-discovery service which has an API that can be used to query their database and find information related to the venues. Foursquare will be used later to obtain the top 10 most common venues within 1 kilometer of each neighborhood. </font>\n"
   ]
  },
  {
   "cell_type": "code",
   "execution_count": null,
   "metadata": {},
   "outputs": [],
   "source": []
  }
 ],
 "metadata": {
  "kernelspec": {
   "display_name": "Python 3",
   "language": "python",
   "name": "python3"
  },
  "language_info": {
   "codemirror_mode": {
    "name": "ipython",
    "version": 3
   },
   "file_extension": ".py",
   "mimetype": "text/x-python",
   "name": "python",
   "nbconvert_exporter": "python",
   "pygments_lexer": "ipython3",
   "version": "3.7.3"
  }
 },
 "nbformat": 4,
 "nbformat_minor": 2
}
